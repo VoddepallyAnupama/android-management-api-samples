{
  "cells": [
    {
      "cell_type": "markdown",
      "metadata": {
        "id": "lbI8y3v1G6OM"
      },
      "source": [
        "#### Copyright 2022 Google LLC.\n",
        "\n",
        "Licensed under the Apache License, Version 2.0 (the \"License\");"
      ]
    },
    {
      "cell_type": "code",
      "execution_count": null,
      "metadata": {
        "id": "JxL-8R6KHRtK"
      },
      "outputs": [],
      "source": [
        "# Licensed under the Apache License, Version 2.0 (the \"License\");\n",
        "# you may not use this file except in compliance with the License.\n",
        "# You may obtain a copy of the License at\n",
        "\n",
        "# https://www.apache.org/licenses/LICENSE-2.0\n",
        "\n",
        "# Unless required by applicable law or agreed to in writing, software\n",
        "# distributed under the License is distributed on an \"AS IS\" BASIS,\n",
        "# WITHOUT WARRANTIES OR CONDITIONS OF ANY KIND, either express or implied.\n",
        "# See the License for the specific language governing permissions and\n",
        "# limitations under the License."
      ]
    },
    {
      "cell_type": "markdown",
      "metadata": {
        "id": "8CY7hBo9gq04"
      },
      "source": [
        "# How to set managed configurations for an app and retrieve app feedback\n",
        "\n",
        "This notebook shows you how to support the [managed configurations](https://developers.google.com/android/management/managed-configurations-iframe) and how to [retrieve feedback from apps](https://developers.google.com/android/management/app-feedback) with the Android Management API. If an app supports managed configurations, sending keyed app states is recommended as a way to update IT admins on the status of the configurations they set. \n",
        "\n",
        "To check if an app supports managed configurations:\n",
        "\n",
        "1. Go to [managed Google Play](https://play.google.com/work).\n",
        "2. Search for, and click the app you’d like to check.\n",
        "3. If the production version of the app supports managed configuration, the following message is shown under the Approve or Buy button: This app offers managed configuration.\n",
        "\n",
        "## Setup\n",
        "\n",
        "You can use the [Android Management API quickstart guide](https://developers.google.com/android/management/quickstart) to become familiar with how to use this colab notebook. The quickstart will help you create a cloud project, enroll an enterprise, and provision a device.\n",
        "\n",
        "In this colab you will need to have:\n",
        "\n",
        "*   Enrolled an enterprise.\n",
        "*   Created a policy.\n",
        "*   Provisioned an Android 6.0+ device under your enterprise.\n",
        "\n",
        "You will use the resources (`Enterprises`, `Devices`, `Policies`) that you have created from the quickstart.\n"
      ]
    },
    {
      "cell_type": "markdown",
      "metadata": {
        "id": "B-Xfg4D4Xqnu"
      },
      "source": [
        "# Set up the managed configurations iframe\n",
        "\n",
        "\n",
        "## Authenticating\n",
        "To create and access resources, you need to authenticate with an account that has edit rights over your project. To start the authentication flow, **run the cell below**.\n",
        "\n",
        "When you build a server-based solution, you should create a\n",
        "[service account](https://developers.google.com/android/management/service-account)\n",
        "so you don't need to authorize the access every time."
      ]
    },
    {
      "cell_type": "code",
      "execution_count": null,
      "metadata": {
        "id": "x5hRUqoeXqnx"
      },
      "outputs": [],
      "source": [
        "import json\n",
        "from apiclient.discovery import build\n",
        "from google_auth_oauthlib.flow import Flow\n",
        "import pprint\n",
        "\n",
        "# To improve the readability of deeply nested data structures, we create a \n",
        "# helper function to pretty print a result:\n",
        "prettyprint = pprint.PrettyPrinter(indent=4).pprint\n",
        "\n",
        "# This is a public OAuth config that you can use to run this guide.\n",
        "# However, use different credentials when building your own solution.\n",
        "CLIENT_CONFIG = {\n",
        "  'web': {\n",
        "    'client_id':'882252295571-m8qpit609pj2hsql4j5k0bue1injrtd2.apps.googleusercontent.com',\n",
        "    'auth_uri':'https://accounts.google.com/o/oauth2/auth',\n",
        "    'token_uri':'https://oauth2.googleapis.com/token',\n",
        "    'auth_provider_x509_cert_url':'https://www.googleapis.com/oauth2/v1/certs',\n",
        "    'client_secret':'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'\n",
        "  }\n",
        "}\n",
        "SCOPES = ['https://www.googleapis.com/auth/androidmanagement']\n",
        "CALLBACK_URL = 'https://google.github.io/android-management-api-samples/oauth_callback.html'\n",
        "\n",
        "# Run the OAuth flow.\n",
        "flow = Flow.from_client_config(CLIENT_CONFIG, SCOPES)\n",
        "flow.redirect_uri = CALLBACK_URL\n",
        "auth_url, _ = flow.authorization_url()\n",
        "print('Please visit this URL to authorize this application: {}'.format(auth_url))\n",
        "\n",
        "code = input('Enter the authorization code: ')\n",
        "flow.fetch_token(code=code)\n",
        "\n",
        "# Create the API client.\n",
        "androidmanagement = build('androidmanagement', 'v1', credentials=flow.credentials)\n",
        "\n",
        "print('\\nAuthentication succeeded.')"
      ]
    },
    {
      "cell_type": "markdown",
      "metadata": {
        "id": "8Mt-79teXqn0"
      },
      "source": [
        "## Declare your enterprise\n",
        "\n",
        "If you already have an enterprise, you can enter the enterprise name in the cell below and run the cell. If you do not have a enterprise, please go through the [general Quickstart](https://developers.google.com/android/management/quickstart)"
      ]
    },
    {
      "cell_type": "code",
      "execution_count": null,
      "metadata": {
        "id": "R4rNq_O_BNBJ"
      },
      "outputs": [],
      "source": [
        "# Paste your enterprise name here.\n",
        "# It should be of the format 'enterprises/LC...'\n",
        "enterprise_name = ''"
      ]
    },
    {
      "cell_type": "markdown",
      "metadata": {
        "id": "VRV6mzs5ou8w"
      },
      "source": [
        "## Select an application to configure\n",
        "\n",
        "You can check in [Google Play](https://play.google.com/work) if an application supports managed configuration."
      ]
    },
    {
      "cell_type": "code",
      "execution_count": null,
      "metadata": {
        "id": "NA31sCiUoiNZ"
      },
      "outputs": [],
      "source": [
        "# Paste the package name of an application here.\n",
        "package_name = ''"
      ]
    },
    {
      "cell_type": "markdown",
      "metadata": {
        "id": "w5X6UYB8Dqbx"
      },
      "source": [
        "# There are two ways you can support managed configurations in your EMM console:\n",
        "\n",
        "*   Add the managed configurations iframe to your console and apply settings via managedConfigurationTemplate in ApplicationPolicy\n",
        "*   Create your own UI and apply the settings via managedConfiguration in ApplicationPolicy.\n",
        "\n",
        "Managed configurations allow the organization's IT admin to remotely specify settings for apps. To view sample apps with a managed configuration, see [AppRestrictionSchema](https://github.com/android/enterprise-samples/tree/master/AppRestrictionSchema/#readme)."
      ]
    },
    {
      "cell_type": "markdown",
      "metadata": {
        "id": "W6H-nD3uT6no"
      },
      "source": [
        "## Option 1: Set managed configuration using the managed configuration iframe\n",
        "\n",
        "This section shows you how to support [managed configurations iframe](https://developers.google.com/android/management/managed-configurations-iframe) with the Android Management API. The managed configurations iframe is an embeddable UI that lets IT admins save, edit, and delete an app’s managed configuration settings."
      ]
    },
    {
      "cell_type": "markdown",
      "metadata": {
        "id": "MaWdKKR0rYWM"
      },
      "source": [
        "### Render the managed configuration iframe\n",
        "\n",
        "The iframe retrieves and displays the managed configurations schema for a specified app. Within the iframe, an IT admin can set configurations and save them as a configuration profile."
      ]
    },
    {
      "cell_type": "code",
      "execution_count": null,
      "metadata": {
        "id": "Q_1V5jbCUGWS"
      },
      "outputs": [],
      "source": [
        "IFRAME_URL = 'https://storage.googleapis.com/android-management-api-samples/managed_configuration_iframe.html'\n",
        "\n",
        "# Creates a web token to access an embeddable managed Google Play web UI for a given enterprise.\n",
        "web_token = androidmanagement.enterprises().webTokens().create(\n",
        "    parent=enterprise_name,\n",
        "    body={\n",
        "      'parentFrameUrl': IFRAME_URL\n",
        "    }\n",
        ").execute()\n",
        "\n",
        "full_iframe_url = IFRAME_URL + \"?token=\" + web_token[\"value\"] + \"\u0026packageName=\" + package_name\n",
        "\n",
        "print('Open the managed configuration iframe:', full_iframe_url)"
      ]
    },
    {
      "cell_type": "code",
      "execution_count": null,
      "metadata": {
        "id": "yBNvr_0Fo-gv"
      },
      "outputs": [],
      "source": [
        "# Each time an IT admin saves a new configuration profile, the iframe returns a unique identifier called mcmId.\n",
        "# Paste the mcmId of the managed configurations profile you just created here.\n",
        "mdm_id = \"\""
      ]
    },
    {
      "cell_type": "markdown",
      "metadata": {
        "id": "7Uxjp4BLpdoF"
      },
      "source": [
        "### Set the managed configuration profile in the policy\n",
        "\n",
        "Policies (also called a policy) are the core resource of the Android Management API. You use them to create and save groups of device and app management settings for your customers to apply to devices. Each configuration profile is saved as a unique mcmId. To apply a configuration profile to a policy, specify mcmId in managedConfigurationTemplate."
      ]
    },
    {
      "cell_type": "code",
      "execution_count": null,
      "metadata": {
        "id": "3OSBO0Kfpc-e"
      },
      "outputs": [],
      "source": [
        "policy_name = enterprise_name + '/policies/managed-configurations'\n",
        "\n",
        "policy = {\n",
        "    'applications': [\n",
        "        {\n",
        "            'installType': 'FORCE_INSTALLED',\n",
        "            'packageName': package_name,\n",
        "            'managedConfigurationTemplate': {\n",
        "                'templateId': mdm_id\n",
        "            }\n",
        "        }\n",
        "    ],\n",
        "    'debuggingFeaturesAllowed': True\n",
        "}\n",
        "\n",
        "androidmanagement.enterprises().policies().patch(\n",
        "    name=policy_name,\n",
        "    body=policy\n",
        ").execute()"
      ]
    },
    {
      "cell_type": "markdown",
      "metadata": {
        "id": "rX1WRkE1qvBz"
      },
      "source": [
        "## Option 2: Set managed configurations through policy"
      ]
    },
    {
      "cell_type": "code",
      "execution_count": null,
      "metadata": {
        "id": "TkTJSDwS7Ckt"
      },
      "outputs": [],
      "source": [
        "# Pull the managed configurations of the application to edit in the next code snippet below\n",
        "\n",
        "application = androidmanagement.enterprises().applications().get(\n",
        "  name= enterprise_name + '/applications/' + package_name\n",
        ").execute()\n",
        "\n",
        "prettyprint(application[\"managedProperties\"])"
      ]
    },
    {
      "cell_type": "markdown",
      "metadata": {
        "id": "mfsM_AGh8Ycm"
      },
      "source": [
        "Create your own UI and apply the settings via managedConfiguration in ApplicationPolicy."
      ]
    },
    {
      "cell_type": "code",
      "execution_count": null,
      "metadata": {
        "id": "T0BGwYilq_HC"
      },
      "outputs": [],
      "source": [
        "policy_name = enterprise_name + '/policies/managed-configurations'\n",
        "\n",
        "policy = {\n",
        "    'applications': [\n",
        "        {\n",
        "            'installType': 'FORCE_INSTALLED',\n",
        "            'packageName': package_name,\n",
        "            'managedConfiguration': {\n",
        "                # Enter your configuration using this key/value pair template.\n",
        "                'key1': 'value1',\n",
        "                'key2': 'value2'\n",
        "            }\n",
        "        }\n",
        "    ],\n",
        "    'debuggingFeaturesAllowed': 'true'\n",
        "}\n",
        "\n",
        "# Write the new policy:\n",
        "androidmanagement.enterprises().policies().patch(\n",
        "    name=policy_name,\n",
        "    body=policy\n",
        ").execute()"
      ]
    },
    {
      "cell_type": "markdown",
      "metadata": {
        "id": "3Sf3qQL9CrIG"
      },
      "source": [
        "# Retrieve feedback from the configured app\n",
        "\n",
        "This section shows you how to [retrieve feedback from apps](https://developers.google.com/android/management/app-feedback) through the Android Management API. This communication channel allows IT admins to receive feedback about the status of the apps installed on the devices they manage.\n"
      ]
    },
    {
      "cell_type": "markdown",
      "metadata": {
        "id": "PnWwzIFyJXQS"
      },
      "source": [
        "\n",
        "Below is an example of how to create or update a `policy` for apps on a device with settings controlling the behavior of status reports. To enable reporting for a device, update the device policy and set StatusReportingSettings.applicationReportsEnabled to true. To enable device settings reporting set StatusReportingSettings.deviceSettingsEnabled to true.\n",
        "\n"
      ]
    },
    {
      "cell_type": "code",
      "execution_count": null,
      "metadata": {
        "id": "mJ-PFORwdB4A"
      },
      "outputs": [],
      "source": [
        "# Update a policy without replacing the existing policy.\n",
        "\n",
        "policy_name = enterprise_name + '/policies/managed-configurations'\n",
        "\n",
        "policy = {\n",
        "    'statusReportingSettings' : {\n",
        "        'applicationReportsEnabled': True\n",
        "    }\n",
        "}\n",
        "\n",
        "androidmanagement.enterprises().policies().patch(\n",
        "    name=policy_name,\n",
        "    updateMask='statusReportingSettings.applicationReportsEnabled',\n",
        "    body=policy\n",
        ").execute()"
      ]
    },
    {
      "cell_type": "code",
      "execution_count": null,
      "metadata": {
        "id": "ofbcBL5NmSIW"
      },
      "outputs": [],
      "source": [
        "# List devices so you can get a device name to use to pull app feedback below.\n",
        "androidmanagement.enterprises().devices().list(\n",
        "    parent=enterprise_name\n",
        ").execute()"
      ]
    },
    {
      "cell_type": "markdown",
      "metadata": {
        "id": "CGQSWpfP9tWD"
      },
      "source": [
        "To review a devices's latest report at any time, call [devices.get()](https://developers.google.com/android/management/reference/rest/v1/enterprises.devices/get) \n",
        "\n",
        "IT admins can use the data from keyed app states to retrieve information about device states."
      ]
    },
    {
      "cell_type": "code",
      "execution_count": null,
      "metadata": {
        "id": "roqlhKC0EDrI"
      },
      "outputs": [],
      "source": [
        "# Enter the device name\n",
        "device_name = ''"
      ]
    },
    {
      "cell_type": "code",
      "execution_count": null,
      "metadata": {
        "id": "TOnOsZtOmHlw"
      },
      "outputs": [],
      "source": [
        "# Review a device’s latest report:\n",
        "androidmanagement.enterprises().devices().get(\n",
        "    name=device_name\n",
        ").execute()"
      ]
    },
    {
      "cell_type": "markdown",
      "metadata": {
        "id": "jTyUXuvfxAFP"
      },
      "source": [
        "#   Set up [Pub/Sub notifications](https://developers.google.com/android/management/notifications)\n",
        "\n",
        "As an alternative you can set up Pub/Sub notifications to receive alerts about newly enrolled devices, device reports, and recently issued commands. To set up Pub/Sub notifications, you need to enable the Pub/Sub API and create a topic. To receive messages published to a topic, create a subscription to that topic. After you create a subscription, you need to grant Android Device Policy permission to publish to your topic.\n",
        "\n",
        "The set up link above will guide you on how to: \n",
        "\n",
        "1. Enable the Pub/Sub API for your project\n",
        "2. Create a topic\n",
        "3. Create a subscription\n",
        "4. Grant Android Device Policy the right to publish to your topic\n",
        "5. Update an enterprise to support notifications\n",
        "\n",
        "Go to your [Cloud Console](https://console.cloud.google.com/cloud-resource-manager) to get your project ID."
      ]
    },
    {
      "cell_type": "code",
      "execution_count": null,
      "metadata": {
        "id": "2DEmZ5Wcn4et"
      },
      "outputs": [],
      "source": [
        "# Enter your Google Cloud Project ID below:\n",
        "cloud_project_id = ''"
      ]
    },
    {
      "cell_type": "code",
      "execution_count": null,
      "metadata": {
        "id": "R-Ow14HOoNc2"
      },
      "outputs": [],
      "source": [
        "# Go to the Pub/Sub topics page in the Cloud Console to get the topic name you created.\n",
        "# Enter the topic you created below:\n",
        "my_topic = ''"
      ]
    },
    {
      "cell_type": "code",
      "execution_count": null,
      "metadata": {
        "id": "Hc_rm5nfQWgD"
      },
      "outputs": [],
      "source": [
        "\n",
        "# Update the enterprise to support notifications:\n",
        "androidmanagement.enterprises().patch(\n",
        "    name=enterprise_name,\n",
        "    body={\n",
        "        \"name\" : enterprise_name,\n",
        "        \"enabledNotificationTypes\" : \"STATUS_REPORT\",\n",
        "        \"pubsubTopic\": \"projects/\" + cloud_project_id + \"/topics/\" + my_topic\n",
        "    }\n",
        ").execute()"
      ]
    }
  ],
  "metadata": {
    "colab": {
      "collapsed_sections": [],
      "name": "managed_configurations.ipynb",
      "provenance": [],
      "toc_visible": true
    },
    "kernelspec": {
      "display_name": "Python 3",
      "name": "python3"
    }
  },
  "nbformat": 4,
  "nbformat_minor": 0
}
