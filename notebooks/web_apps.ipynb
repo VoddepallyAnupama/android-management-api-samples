{
  "cells": [
    {
      "cell_type": "markdown",
      "metadata": {
        "id": "lbI8y3v1G6OM"
      },
      "source": [
        "#### Copyright 2022 Google LLC.\n",
        "\n",
        "Licensed under the Apache License, Version 2.0 (the \"License\");"
      ]
    },
    {
      "cell_type": "code",
      "execution_count": null,
      "metadata": {
        "id": "JxL-8R6KHRtK"
      },
      "outputs": [],
      "source": [
        "# Licensed under the Apache License, Version 2.0 (the \"License\");\n",
        "# you may not use this file except in compliance with the License.\n",
        "# You may obtain a copy of the License at\n",
        "\n",
        "# https://www.apache.org/licenses/LICENSE-2.0\n",
        "\n",
        "# Unless required by applicable law or agreed to in writing, software\n",
        "# distributed under the License is distributed on an \"AS IS\" BASIS,\n",
        "# WITHOUT WARRANTIES OR CONDITIONS OF ANY KIND, either express or implied.\n",
        "# See the License for the specific language governing permissions and\n",
        "# limitations under the License."
      ]
    },
    {
      "cell_type": "markdown",
      "metadata": {
        "id": "3Sf3qQL9CrIG"
      },
      "source": [
        "# Android Management API - Quickstart for Web Apps\n",
        "\n",
        "This notebook shows you how to create and manage web apps with the Android Management API. \n",
        "It is assumed that you have worked through the [Android Management API quickstart guide](https://developers.google.com/android/management/quickstart) and are therefore familiar with how to use this colab notebook and already have a cloud project, test enterprise, and provisioned device.\n",
        "\n",
        "\n",
        "## Authenticating\n",
        "To create and access resources, you need to authenticate with an account that has edit rights over your project. To start the authentication flow, **run the cell below**."
      ]
    },
    {
      "cell_type": "code",
      "execution_count": null,
      "metadata": {
        "id": "8myK1D6uy7HR"
      },
      "outputs": [],
      "source": [
        "import json\n",
        "from apiclient.discovery import build\n",
        "from google_auth_oauthlib.flow import Flow\n",
        "import pprint\n",
        "\n",
        "# This is a public OAuth config that you can use to run this guide.\n",
        "# However, use different credentials when building your own solution.\n",
        "CLIENT_CONFIG = {\n",
        "  'web': {\n",
        "    'client_id':'882252295571-m8qpit609pj2hsql4j5k0bue1injrtd2.apps.googleusercontent.com',\n",
        "    'auth_uri':'https://accounts.google.com/o/oauth2/auth',\n",
        "    'token_uri':'https://oauth2.googleapis.com/token',\n",
        "    'auth_provider_x509_cert_url':'https://www.googleapis.com/oauth2/v1/certs',\n",
        "    'client_secret':'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'\n",
        "  }\n",
        "}\n",
        "SCOPES = ['https://www.googleapis.com/auth/androidmanagement']\n",
        "CALLBACK_URL = 'https://google.github.io/android-management-api-samples/oauth_callback.html'\n",
        "\n",
        "# Run the OAuth flow.\n",
        "flow = Flow.from_client_config(CLIENT_CONFIG, SCOPES)\n",
        "flow.redirect_uri = CALLBACK_URL\n",
        "auth_url, _ = flow.authorization_url()\n",
        "print('Please visit this URL to authorize this application: {}'.format(auth_url))\n",
        "\n",
        "code = input('Enter the authorization code: ')\n",
        "flow.fetch_token(code=code)\n",
        "\n",
        "# Create the API client.\n",
        "androidmanagement = build('androidmanagement', 'v1', credentials=flow.credentials)\n",
        "\n",
        "print('\\nAuthentication succeeded.')\n",
        "\n",
        "# To improve the readability of deeply nested data structures, we create a \n",
        "# helper function to pretty print a result:\n",
        "prettyprint = pprint.PrettyPrinter(indent=4).pprint\n"
      ]
    },
    {
      "cell_type": "markdown",
      "metadata": {
        "id": "bsnuDBT7JQ9O"
      },
      "source": [
        "## Declare your enterprise\n",
        "In the [general Quickstart](https://developers.google.com/android/management/quickstart) you already created a test enterprise which will be used here."
      ]
    },
    {
      "cell_type": "code",
      "execution_count": null,
      "metadata": {
        "id": "R4rNq_O_BNBJ"
      },
      "outputs": [],
      "source": [
        "# Paste your enterprise name here.\n",
        "# It should be of the format 'enterprises/LC...'\n",
        "enterprise_name = ''"
      ]
    },
    {
      "cell_type": "markdown",
      "metadata": {
        "id": "W6H-nD3uT6no"
      },
      "source": [
        "# Create a web app with the managed Google Play iframe\n",
        "\n",
        "The managed Google Play iframe includes a user interface for IT admins to create, edit, and delete web apps.\n",
        "\n",
        "**Run the cell below** to open the managed Google Play iframe.\n",
        "\n",
        "In the iframe:\n",
        "*   In the left navigation menu click **Web apps**\n",
        "*   Click the **+** button\n",
        "*   Enter a title and a URL, select a display mode, and optionally upload an icon \n",
        "*   Click **Create**\n",
        "*   In the web app list click on the web app you've just created\n",
        "*   Click **Select**\n",
        "*   Copy the package name of the web app and add it in the policy below\n",
        "\n"
      ]
    },
    {
      "cell_type": "code",
      "execution_count": null,
      "metadata": {
        "id": "Q_1V5jbCUGWS"
      },
      "outputs": [],
      "source": [
        "IFRAME_URL = \"https://storage.googleapis.com/android-management-api-samples/managed_play_iframe.html\"\n",
        "\n",
        "web_token = androidmanagement.enterprises().webTokens().create(\n",
        "    parent=enterprise_name,\n",
        "    body={\n",
        "      \"parentFrameUrl\": IFRAME_URL\n",
        "    }\n",
        ").execute()\n",
        "\n",
        "full_iframe_url = IFRAME_URL + \"?mode=SELECT\u0026token=\" + web_token[\"value\"]\n",
        "\n",
        "print('Open the managed Google Play iframe:', full_iframe_url)"
      ]
    },
    {
      "cell_type": "markdown",
      "metadata": {
        "id": "_9uLoHmVs3wi"
      },
      "source": [
        "# Distributing the web app\n",
        "\n",
        "Once a web app is created, it can be used just like a normal app, e.g. added to a policy. Assuming you already used the policy `/policies/policy1` from the [Android Management API quickstart guide](https://developers.google.com/android/management/quickstart) when you set up the test device, we will use that name.\n",
        "\n",
        "**Important**: For a device to support web apps, Google Chrome must be installed. When distributing web apps, ensure that Google Chrome (`com.android.chrome`) is always included in a device's policy.\n",
        "\n"
      ]
    },
    {
      "cell_type": "code",
      "execution_count": null,
      "metadata": {
        "id": "T_AAKoqVs6ae"
      },
      "outputs": [],
      "source": [
        "policy_name = enterprise_name + '/policies/policy1'\n",
        "\n",
        "# Paste the package name of the web app here\n",
        "# It should be of the format 'com.google.enterprise.webapp.*'.\n",
        "web_app_package_name = ''\n",
        "\n",
        "policy = {\n",
        "    'applications': [\n",
        "        {\n",
        "            'installType': 'FORCE_INSTALLED',\n",
        "            'packageName': 'com.android.chrome'\n",
        "        },\n",
        "        {\n",
        "            'installType': 'FORCE_INSTALLED',\n",
        "            'packageName': web_app_package_name\n",
        "        }\n",
        "    ],\n",
        "    'debuggingFeaturesAllowed': True\n",
        "}\n",
        "\n",
        "# Write the new policy:\n",
        "result = androidmanagement.enterprises().policies().patch(\n",
        "    name=policy_name,\n",
        "    body=policy\n",
        ").execute()\n",
        "\n",
        "prettyprint(result)"
      ]
    },
    {
      "cell_type": "markdown",
      "metadata": {
        "id": "HkBhR0EiVvYW"
      },
      "source": [
        "# Create a web app with the Android Management API\n",
        "\n",
        "Another way to support web apps is to use the Android Management API to create and manage web apps."
      ]
    },
    {
      "cell_type": "markdown",
      "metadata": {
        "id": "b6ad2CvRXddq"
      },
      "source": [
        "## enterprises.webApps.create\n",
        "\n",
        "You can use the method [`enterprises.webApps.create`](https://developers.google.com/android/management/reference/rest/v1/enterprises.webApps/create) to create a web app. You need just a title and a URL, plus the display mode (can be one of `MINIMAL_UI`, `STANDALONE`, or `FULL_SCREEN`).\n",
        "\n",
        "While an icon is optional, it's best practice to always specify a meaningful icon for a web app. Like a title, an icon helps users identify an app. Google applies the same fixed static icon for all web apps that don't have a specified icon.\n",
        "\n",
        "The icon data needs to be encoded in base64url (see [RFC 4648, section-5](https://tools.ietf.org/html/rfc4648#section-5)). It should be a square (or near-square) shape, ideally around 512x512 pixels."
      ]
    },
    {
      "cell_type": "code",
      "execution_count": null,
      "metadata": {
        "id": "Vyg8dItnWFpa"
      },
      "outputs": [],
      "source": [
        "import base64\n",
        "import urllib.request\n",
        "\n",
        "# A useful picture found on the Wikipedia page:\n",
        "icon_url = 'https://developer.android.com/images/brand/Android_Robot.png'\n",
        "\n",
        "icon_raw_data = urllib.request.urlopen(icon_url).read()\n",
        "icon_encoded_data = base64.urlsafe_b64encode(icon_raw_data).decode(\"utf-8\")\n",
        "\n",
        "web_app = {\n",
        "    \"title\": \"Android\",\n",
        "    \"startUrl\": \"https://en.m.wikipedia.org/wiki/Android_(operating_system)\",\n",
        "    \"displayMode\": \"MINIMAL_UI\",\n",
        "    \"icons\": [\n",
        "        {\n",
        "            \"imageData\": icon_encoded_data\n",
        "        }\n",
        "    ]\n",
        "}\n",
        "\n",
        "result = androidmanagement.enterprises().webApps().create(\n",
        "    parent=enterprise_name,\n",
        "    body=web_app\n",
        ").execute()\n",
        "\n",
        "# Take note of the app's name (which is it's id) for future operations:\n",
        "web_app_name = result['name']\n",
        "\n",
        "prettyprint(result)"
      ]
    },
    {
      "cell_type": "markdown",
      "metadata": {
        "id": "kKeHN5yzo09F"
      },
      "source": [
        "The result of the create call basically mirrors its inputs but with the icon data and the name filled in.\n",
        "\n",
        "For later use, the `name` component of the result is the imporant piece of information, which should be extracted. A web app's package name is the last component of its name, i.e. the part after the last slash (`/`) character."
      ]
    },
    {
      "cell_type": "markdown",
      "metadata": {
        "id": "ufsD2hfkpVlg"
      },
      "source": [
        "## enterprises.webApps.patch\n",
        "\n",
        "With the `enterprises.webApps.patch` call you can update any aspect of a web app.\n",
        "\n",
        "E.g. here we change the title and display mode."
      ]
    },
    {
      "cell_type": "code",
      "execution_count": null,
      "metadata": {
        "id": "qjundP3YqYNd"
      },
      "outputs": [],
      "source": [
        "web_app = {\n",
        "    \"title\": \"Wikipedia: Android\",\n",
        "    \"startUrl\": \"https://en.m.wikipedia.org/wiki/Android_(operating_system)\",\n",
        "    \"displayMode\": \"STANDALONE\",\n",
        "    \"icons\": [\n",
        "        {\n",
        "            \"imageData\": icon_encoded_data\n",
        "        }\n",
        "    ]\n",
        "}\n",
        "\n",
        "result = androidmanagement.enterprises().webApps().patch(\n",
        "    name=web_app_name,\n",
        "    body=web_app\n",
        ").execute()\n",
        "\n",
        "prettyprint(result)"
      ]
    },
    {
      "cell_type": "markdown",
      "metadata": {
        "id": "tf6VE8xapJE4"
      },
      "source": [
        "## enterprises.webApps.list\n",
        "\n",
        "The `enterprises.webApps.list` method returns information about all web apps. \n",
        "\n",
        "This is also a handy way to recover the name (aka the id) of a web app should it be forgotten after creation."
      ]
    },
    {
      "cell_type": "code",
      "execution_count": null,
      "metadata": {
        "id": "60oVxrxpg-Zr"
      },
      "outputs": [],
      "source": [
        "webapps = androidmanagement.enterprises().webApps().list(\n",
        "    parent=enterprise_name\n",
        ").execute()\n",
        "\n",
        "prettyprint(webapps)"
      ]
    },
    {
      "cell_type": "markdown",
      "metadata": {
        "id": "OtWosifKk5VT"
      },
      "source": [
        "## enterprises.webApps.get\n",
        "\n",
        "To get details about a single web app, the `enterprises.webApps.get` call is used.\n",
        "\n",
        "*Note* that data from the list call does not contain information about the icons. To get that, the get is is needed."
      ]
    },
    {
      "cell_type": "code",
      "execution_count": null,
      "metadata": {
        "id": "xFbJGnNfiWls"
      },
      "outputs": [],
      "source": [
        "webapp = androidmanagement.enterprises().webApps().get(\n",
        "    name=web_app_name\n",
        ").execute()\n",
        "\n",
        "prettyprint(webapp)"
      ]
    },
    {
      "cell_type": "markdown",
      "metadata": {
        "id": "YiCyDKO2a1VW"
      },
      "source": [
        "## enterprises.webApps.delete\n",
        "\n",
        "To delete a web app, call `enterprises.webApps.delete`.\n",
        "\n",
        "*Note* that deleting the web app does not uninstall it from devices it's installed on."
      ]
    },
    {
      "cell_type": "code",
      "execution_count": null,
      "metadata": {
        "id": "kxVAAHsNbA7I"
      },
      "outputs": [],
      "source": [
        "androidmanagement.enterprises().webApps().delete(\n",
        "    name=web_app_name\n",
        ").execute()"
      ]
    },
    {
      "cell_type": "markdown",
      "metadata": {
        "id": "J5pZM4ze29l3"
      },
      "source": [
        "# Web apps in the Play store\n",
        "\n",
        "Web apps are private apps, and are therefore only visible to the IT admins and users of the enterprise for which they are created. After logging into managed Google Play, IT admins can view the full store listing of a web app  at `https://play.google.com/work/apps/details?id=\u003cpackagename\u003e`.\n",
        "\n",
        "For users web apps are just like regular Android apps and can see them in the Work store on their device.\n"
      ]
    },
    {
      "cell_type": "code",
      "execution_count": null,
      "metadata": {
        "id": "11MnzWiW3lJW"
      },
      "outputs": [],
      "source": [
        "print (\"Admins visit https://play.google.com/work/apps/details?id={}, users https://play.google.com/store/apps/details?id={} to see the Play store listing.\".format(web_app_package_name, web_app_package_name))"
      ]
    }
  ],
  "metadata": {
    "colab": {
      "collapsed_sections": [],
      "name": "web_apps.ipynb",
      "private_outputs": true,
      "provenance": [],
      "toc_visible": true
    },
    "kernelspec": {
      "display_name": "Python 3",
      "name": "python3"
    }
  },
  "nbformat": 4,
  "nbformat_minor": 0
}
